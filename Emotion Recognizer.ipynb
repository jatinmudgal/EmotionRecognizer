{
 "cells": [
  {
   "cell_type": "markdown",
   "id": "6eb36d24",
   "metadata": {},
   "source": [
    "# 1 Installing dependencies"
   ]
  },
  {
   "cell_type": "code",
   "execution_count": 3,
   "id": "0bf68ddb",
   "metadata": {},
   "outputs": [
    {
     "name": "stderr",
     "output_type": "stream",
     "text": [
      "C:\\Users\\jatin\\anaconda3\\lib\\site-packages\\paramiko\\transport.py:219: CryptographyDeprecationWarning: Blowfish has been deprecated\n",
      "  \"class\": algorithms.Blowfish,\n"
     ]
    }
   ],
   "source": [
    "import os\n",
    "\n",
    "import librosa\n",
    "\n",
    "import librosa.display\n",
    "\n",
    "\n",
    "import IPython.display as ipd\n",
    "from IPython.display import Image\n",
    "\n",
    "import matplotlib.pyplot as plt\n",
    "\n",
    "import numpy as np\n",
    "import pandas as pd\n",
    "\n",
    "\n",
    "import keras\n",
    "from keras.models import Model\n",
    "from keras.models import Sequential\n",
    "from keras.layers import Conv1D, MaxPooling1D #, AveragePooling1D\n",
    "from keras.layers import Flatten, Dropout, Activation # Input, \n",
    "from keras.layers import Dense #, Embedding\n",
    "from keras.utils import np_utils\n",
    "from tensorflow.keras import optimizers\n",
    "from sklearn.preprocessing import LabelEncoder"
   ]
  },
  {
   "cell_type": "code",
   "execution_count": 4,
   "id": "c687cfa5",
   "metadata": {},
   "outputs": [
    {
     "name": "stdout",
     "output_type": "stream",
     "text": [
      "C:\\Users\\jatin\\Desktop\\SE Project\n"
     ]
    }
   ],
   "source": [
    "cd C:\\Users\\jatin\\Desktop\\SE Project"
   ]
  },
  {
   "cell_type": "markdown",
   "id": "d0901b62",
   "metadata": {},
   "source": [
    "# 2 Data Preparation"
   ]
  },
  {
   "cell_type": "code",
   "execution_count": 5,
   "id": "5356de05",
   "metadata": {},
   "outputs": [],
   "source": [
    "dataset_path = os.path.abspath('./Dataset')\n",
    "destination_path = os.path.abspath('./')\n",
    "# To shuffle the dataset instances/records\n",
    "randomize = True\n",
    "# for spliting dataset into training and testing dataset\n",
    "split = 0.8\n",
    "# Number of sample per second e.g. 16KHz\n",
    "sampling_rate = 20000 \n",
    "emotions=[\"anger\",\"disgust\",\"fear\",\"happy\",\"neutral\", \"sad\", \"surprise\"]"
   ]
  },
  {
   "cell_type": "code",
   "execution_count": 6,
   "id": "a2aa8bb4",
   "metadata": {},
   "outputs": [],
   "source": [
    "# loading dataframes using dataset module \n",
    "from utils import dataset\n",
    "df, train_df, test_df = dataset.create_and_load_meta_csv_df(dataset_path, destination_path, randomize, split)"
   ]
  },
  {
   "cell_type": "code",
   "execution_count": 7,
   "id": "7ce6207c",
   "metadata": {},
   "outputs": [
    {
     "name": "stdout",
     "output_type": "stream",
     "text": [
      "Dataset samples  :  2556 \n",
      "Training Samples :  2044 \n",
      "testing Samples  :  512\n"
     ]
    }
   ],
   "source": [
    "print('Dataset samples  : ', len(df),\"\\nTraining Samples : \", len(train_df),\"\\ntesting Samples  : \", len(test_df))"
   ]
  },
  {
   "cell_type": "markdown",
   "id": "790bfafd",
   "metadata": {},
   "source": [
    "# 3 Data Pre-processing"
   ]
  },
  {
   "cell_type": "code",
   "execution_count": 8,
   "id": "c735c61f",
   "metadata": {},
   "outputs": [],
   "source": [
    "from utils.feature_extraction import get_features_dataframe\n",
    "from utils.feature_extraction import get_audio_features"
   ]
  },
  {
   "cell_type": "markdown",
   "id": "8030f3c4",
   "metadata": {},
   "source": [
    "##### don't run"
   ]
  },
  {
   "cell_type": "code",
   "execution_count": null,
   "id": "d2f3cf2c",
   "metadata": {},
   "outputs": [],
   "source": [
    "trainfeatures, trainlabel = get_the_features(train_df, sampling_rate)\n",
    "testfeatures, testlabel = get_the_features(test_df, sampling_rate)"
   ]
  },
  {
   "cell_type": "code",
   "execution_count": 3,
   "id": "6188405b",
   "metadata": {},
   "outputs": [],
   "source": [
    "####run from here"
   ]
  },
  {
   "cell_type": "code",
   "execution_count": 9,
   "id": "90651558",
   "metadata": {
    "scrolled": true
   },
   "outputs": [],
   "source": [
    "trainfeatures = pd.read_pickle('./features_dataframe/trainfeatures')\n",
    "trainlabel = pd.read_pickle('./features_dataframe/trainlabel')\n",
    "testfeatures = pd.read_pickle('./features_dataframe/testfeatures')\n",
    "testlabel = pd.read_pickle('./features_dataframe/testlabel')"
   ]
  },
  {
   "cell_type": "code",
   "execution_count": 10,
   "id": "27a8a8e5",
   "metadata": {},
   "outputs": [
    {
     "data": {
      "text/plain": [
       "(2044, 65)"
      ]
     },
     "execution_count": 10,
     "metadata": {},
     "output_type": "execute_result"
    }
   ],
   "source": [
    "trainfeatures.shape"
   ]
  },
  {
   "cell_type": "code",
   "execution_count": 11,
   "id": "0079235b",
   "metadata": {},
   "outputs": [],
   "source": [
    "trainfeatures = trainfeatures.fillna(0)\n",
    "testfeatures = testfeatures.fillna(0)"
   ]
  },
  {
   "cell_type": "code",
   "execution_count": 12,
   "id": "6ee4fac6",
   "metadata": {},
   "outputs": [],
   "source": [
    "X_train = np.array(trainfeatures)\n",
    "y_train = np.array(trainlabel).ravel()\n",
    "X_test = np.array(testfeatures)\n",
    "y_test = np.array(testlabel).ravel()"
   ]
  },
  {
   "cell_type": "code",
   "execution_count": 13,
   "id": "edddaa31",
   "metadata": {},
   "outputs": [],
   "source": [
    "lb = LabelEncoder()\n",
    "\n",
    "y_train = np_utils.to_categorical(lb.fit_transform(y_train))\n",
    "y_test = np_utils.to_categorical(lb.fit_transform(y_test))"
   ]
  },
  {
   "cell_type": "code",
   "execution_count": 14,
   "id": "1f331117",
   "metadata": {},
   "outputs": [],
   "source": [
    "x_traincnn =np.expand_dims(X_train, axis=2)\n",
    "x_testcnn= np.expand_dims(X_test, axis=2)"
   ]
  },
  {
   "cell_type": "markdown",
   "id": "378aedc0",
   "metadata": {},
   "source": [
    "# 4 Model Creation"
   ]
  },
  {
   "cell_type": "code",
   "execution_count": 15,
   "id": "eda9be11",
   "metadata": {},
   "outputs": [],
   "source": [
    "model = Sequential()\n",
    "\n",
    "model.add(Conv1D(256, 5,padding='same',\n",
    "                 input_shape=(x_traincnn.shape[1],x_traincnn.shape[2])))\n",
    "model.add(Activation('relu'))\n",
    "model.add(Conv1D(128, 5,padding='same'))\n",
    "model.add(Activation('relu'))\n",
    "model.add(Dropout(0.1))\n",
    "model.add(MaxPooling1D(pool_size=(8)))\n",
    "model.add(Conv1D(128, 5,padding='same',))\n",
    "model.add(Activation('relu'))\n",
    "model.add(Conv1D(128, 5,padding='same',))\n",
    "model.add(Activation('relu'))\n",
    "model.add(Flatten())\n",
    "model.add(Dense(y_train.shape[1]))\n",
    "model.add(Activation('softmax'))\n",
    "opt = optimizers.RMSprop(learning_rate=0.00001, decay=1e-6)"
   ]
  },
  {
   "cell_type": "code",
   "execution_count": 16,
   "id": "7e3d4b5e",
   "metadata": {},
   "outputs": [
    {
     "name": "stdout",
     "output_type": "stream",
     "text": [
      "Model: \"sequential\"\n",
      "_________________________________________________________________\n",
      " Layer (type)                Output Shape              Param #   \n",
      "=================================================================\n",
      " conv1d (Conv1D)             (None, 65, 256)           1536      \n",
      "                                                                 \n",
      " activation (Activation)     (None, 65, 256)           0         \n",
      "                                                                 \n",
      " conv1d_1 (Conv1D)           (None, 65, 128)           163968    \n",
      "                                                                 \n",
      " activation_1 (Activation)   (None, 65, 128)           0         \n",
      "                                                                 \n",
      " dropout (Dropout)           (None, 65, 128)           0         \n",
      "                                                                 \n",
      " max_pooling1d (MaxPooling1D  (None, 8, 128)           0         \n",
      " )                                                               \n",
      "                                                                 \n",
      " conv1d_2 (Conv1D)           (None, 8, 128)            82048     \n",
      "                                                                 \n",
      " activation_2 (Activation)   (None, 8, 128)            0         \n",
      "                                                                 \n",
      " conv1d_3 (Conv1D)           (None, 8, 128)            82048     \n",
      "                                                                 \n",
      " activation_3 (Activation)   (None, 8, 128)            0         \n",
      "                                                                 \n",
      " flatten (Flatten)           (None, 1024)              0         \n",
      "                                                                 \n",
      " dense (Dense)               (None, 7)                 7175      \n",
      "                                                                 \n",
      " activation_4 (Activation)   (None, 7)                 0         \n",
      "                                                                 \n",
      "=================================================================\n",
      "Total params: 336,775\n",
      "Trainable params: 336,775\n",
      "Non-trainable params: 0\n",
      "_________________________________________________________________\n"
     ]
    }
   ],
   "source": [
    "model.summary()"
   ]
  },
  {
   "cell_type": "code",
   "execution_count": 15,
   "id": "e8d0022b",
   "metadata": {},
   "outputs": [],
   "source": [
    "model.compile(loss='categorical_crossentropy', optimizer=opt,metrics=['accuracy'])"
   ]
  },
  {
   "cell_type": "markdown",
   "id": "ce62e2e6",
   "metadata": {},
   "source": [
    "# 5 Training and Evaluation"
   ]
  },
  {
   "cell_type": "code",
   "execution_count": null,
   "id": "6adb5ffb",
   "metadata": {},
   "outputs": [],
   "source": [
    "cnnhistory=model.fit(x_traincnn, y_train, batch_size=16, epochs=400, validation_data=(x_testcnn, y_test))"
   ]
  },
  {
   "cell_type": "code",
   "execution_count": null,
   "id": "67b7a77f",
   "metadata": {},
   "outputs": [],
   "source": [
    "model_name = 'Speech_Emotion_Recognition_Model.h5'\n",
    "save_dir = os.path.join(os.getcwd(), 'Trained_Models')\n",
    "# Save model and weights\n",
    "if not os.path.isdir(save_dir):\n",
    "    os.makedirs(save_dir)\n",
    "model_path = os.path.join(save_dir, model_name)\n",
    "model.save(model_path)\n",
    "print('Saved trained model at %s ' % model_path)"
   ]
  },
  {
   "cell_type": "code",
   "execution_count": null,
   "id": "ef8dab65",
   "metadata": {},
   "outputs": [],
   "source": [
    "import json\n",
    "model_json = model.to_json()\n",
    "with open(\"model.json\", \"w\") as json_file:\n",
    "    json_file.write(model_json)"
   ]
  },
  {
   "cell_type": "markdown",
   "id": "f21795b0",
   "metadata": {},
   "source": [
    "### Loading Model"
   ]
  },
  {
   "cell_type": "code",
   "execution_count": 17,
   "id": "7e2d159d",
   "metadata": {},
   "outputs": [
    {
     "name": "stdout",
     "output_type": "stream",
     "text": [
      "Loaded model from disk\n",
      "accuracy: 59.57%\n"
     ]
    }
   ],
   "source": [
    "# loading json and creating model\n",
    "from keras.models import model_from_json\n",
    "json_file = open('model.json', 'r')\n",
    "loaded_model_json = json_file.read()\n",
    "json_file.close()\n",
    "loaded_model = model_from_json(loaded_model_json)\n",
    "# load weights into new model\n",
    "loaded_model.load_weights(\"./Trained_Models/Speech_Emotion_Recognition_Model.h5\")\n",
    "print(\"Loaded model from disk\")\n",
    " \n",
    "# evaluate loaded model on test data\n",
    "loaded_model.compile(loss='categorical_crossentropy', optimizer=opt, metrics=['accuracy'])\n",
    "score = loaded_model.evaluate(x_testcnn, y_test, verbose=0)\n",
    "print(\"%s: %.2f%%\" % (loaded_model.metrics_names[1], score[1]*100))"
   ]
  },
  {
   "cell_type": "markdown",
   "id": "c1ccdb72",
   "metadata": {},
   "source": [
    "# 6 Test set Prediction"
   ]
  },
  {
   "cell_type": "code",
   "execution_count": 18,
   "id": "db4fb832",
   "metadata": {},
   "outputs": [
    {
     "name": "stdout",
     "output_type": "stream",
     "text": [
      "16/16 [==============================] - 0s 5ms/step\n"
     ]
    }
   ],
   "source": [
    "preds = loaded_model.predict(x_testcnn, \n",
    "                         batch_size=32, \n",
    "                         verbose=1)"
   ]
  },
  {
   "cell_type": "code",
   "execution_count": 19,
   "id": "4f27ed53",
   "metadata": {},
   "outputs": [],
   "source": [
    "preds1=preds.argmax(axis=1)"
   ]
  },
  {
   "cell_type": "code",
   "execution_count": 20,
   "id": "b18f63d1",
   "metadata": {},
   "outputs": [],
   "source": [
    "abc = preds1.astype(int).flatten()"
   ]
  },
  {
   "cell_type": "code",
   "execution_count": 21,
   "id": "310df07f",
   "metadata": {},
   "outputs": [],
   "source": [
    "\n",
    "predictions = (lb.inverse_transform((abc)))"
   ]
  },
  {
   "cell_type": "code",
   "execution_count": 22,
   "id": "d59455f1",
   "metadata": {},
   "outputs": [],
   "source": [
    "preddf = pd.DataFrame({'predictedvalues': predictions})"
   ]
  },
  {
   "cell_type": "code",
   "execution_count": 23,
   "id": "106dc733",
   "metadata": {},
   "outputs": [],
   "source": [
    "actual=y_test.argmax(axis=1)\n",
    "abc123 = actual.astype(int).flatten()\n",
    "actualvalues = (lb.inverse_transform((abc123)))"
   ]
  },
  {
   "cell_type": "code",
   "execution_count": 24,
   "id": "3a61edda",
   "metadata": {},
   "outputs": [],
   "source": [
    "actualdf = pd.DataFrame({'actualvalues': actualvalues})"
   ]
  },
  {
   "cell_type": "code",
   "execution_count": 25,
   "id": "45abfda4",
   "metadata": {},
   "outputs": [],
   "source": [
    "finaldf = actualdf.join(preddf)"
   ]
  },
  {
   "cell_type": "code",
   "execution_count": 26,
   "id": "8044692b",
   "metadata": {},
   "outputs": [],
   "source": [
    "finaldf.to_csv('Predictions.csv', index=False)"
   ]
  },
  {
   "cell_type": "markdown",
   "id": "e155d9a7",
   "metadata": {},
   "source": [
    "# Demo"
   ]
  },
  {
   "cell_type": "code",
   "execution_count": 34,
   "id": "3c373d16",
   "metadata": {},
   "outputs": [],
   "source": [
    "demo_audio_path = './demo_audio/demo_audio.wav'"
   ]
  },
  {
   "cell_type": "code",
   "execution_count": 35,
   "id": "e3f450e0",
   "metadata": {},
   "outputs": [],
   "source": [
    "demo_mfcc, demo_pitch, demo_mag, demo_chrom = get_audio_features(demo_audio_path,sampling_rate)\n",
    "\n",
    "mfcc = pd.Series(demo_mfcc)\n",
    "pit = pd.Series(demo_pitch)\n",
    "mag = pd.Series(demo_mag)\n",
    "C = pd.Series(demo_chrom)\n",
    "demo_audio_features = pd.concat([mfcc,pit,mag,C],ignore_index=True)"
   ]
  },
  {
   "cell_type": "code",
   "execution_count": 36,
   "id": "1d11472d",
   "metadata": {},
   "outputs": [],
   "source": [
    "demo_audio_features= np.expand_dims(demo_audio_features, axis=0)\n",
    "demo_audio_features= np.expand_dims(demo_audio_features, axis=2)"
   ]
  },
  {
   "cell_type": "code",
   "execution_count": 37,
   "id": "ada84583",
   "metadata": {},
   "outputs": [
    {
     "data": {
      "text/plain": [
       "(1, 65, 1)"
      ]
     },
     "execution_count": 37,
     "metadata": {},
     "output_type": "execute_result"
    }
   ],
   "source": [
    "demo_audio_features.shape"
   ]
  },
  {
   "cell_type": "code",
   "execution_count": 38,
   "id": "90a1590f",
   "metadata": {},
   "outputs": [
    {
     "name": "stdout",
     "output_type": "stream",
     "text": [
      "1/1 [==============================] - 0s 19ms/step\n"
     ]
    }
   ],
   "source": [
    "livepreds = loaded_model.predict(demo_audio_features, \n",
    "                         batch_size=32, \n",
    "                         verbose=1)"
   ]
  },
  {
   "cell_type": "code",
   "execution_count": 39,
   "id": "4af820ee",
   "metadata": {},
   "outputs": [],
   "source": [
    "index = livepreds.argmax(axis=1).item()"
   ]
  },
  {
   "cell_type": "code",
   "execution_count": 40,
   "id": "fcfccf5d",
   "metadata": {},
   "outputs": [
    {
     "data": {
      "text/plain": [
       "'anger'"
      ]
     },
     "execution_count": 40,
     "metadata": {},
     "output_type": "execute_result"
    }
   ],
   "source": [
    "emotions[index]"
   ]
  }
 ],
 "metadata": {
  "kernelspec": {
   "display_name": "Python 3 (ipykernel)",
   "language": "python",
   "name": "python3"
  },
  "language_info": {
   "codemirror_mode": {
    "name": "ipython",
    "version": 3
   },
   "file_extension": ".py",
   "mimetype": "text/x-python",
   "name": "python",
   "nbconvert_exporter": "python",
   "pygments_lexer": "ipython3",
   "version": "3.9.15"
  },
  "vscode": {
   "interpreter": {
    "hash": "2a892b59a93c8f37f80e927fd1c7f9c651efe73aaee302e91dbcb9e9e5213723"
   }
  }
 },
 "nbformat": 4,
 "nbformat_minor": 5
}
